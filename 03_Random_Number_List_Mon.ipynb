{
  "nbformat": 4,
  "nbformat_minor": 0,
  "metadata": {
    "colab": {
      "name": "03_Random Number List_Mon.ipynb",
      "provenance": [],
      "collapsed_sections": [
        "rtiCoY2fXsOm"
      ],
      "authorship_tag": "ABX9TyOK7efSWVLI3nbtemfAgSJX",
      "include_colab_link": true
    },
    "kernelspec": {
      "name": "python3",
      "display_name": "Python 3"
    },
    "language_info": {
      "name": "python"
    }
  },
  "cells": [
    {
      "cell_type": "markdown",
      "metadata": {
        "id": "view-in-github",
        "colab_type": "text"
      },
      "source": [
        "<a href=\"https://colab.research.google.com/github/rohini-balapumi/ISYS5002-Sem02-2022/blob/main/03_Random_Number_List_Mon.ipynb\" target=\"_parent\"><img src=\"https://colab.research.google.com/assets/colab-badge.svg\" alt=\"Open In Colab\"/></a>"
      ]
    },
    {
      "cell_type": "markdown",
      "source": [
        "## Task 0: Save the notebook to Github"
      ],
      "metadata": {
        "id": "rtiCoY2fXsOm"
      }
    },
    {
      "cell_type": "markdown",
      "source": [
        "## Task 1: Randomly generate numbers and store them in a list\n",
        "\n",
        "https://www.analyticsvidhya.com/blog/2021/06/15-functions-you-should-know-to-master-lists-in-python/"
      ],
      "metadata": {
        "id": "JrutiGpyXUx3"
      }
    },
    {
      "cell_type": "markdown",
      "source": [
        "Generate random numbers"
      ],
      "metadata": {
        "id": "cC4ymreOIYu6"
      }
    },
    {
      "cell_type": "code",
      "execution_count": null,
      "metadata": {
        "id": "XaXgvcY-XNE_",
        "colab": {
          "base_uri": "https://localhost:8080/"
        },
        "outputId": "a0d03f39-38b4-48e5-ccd6-2cb2d73c13ba"
      },
      "outputs": [
        {
          "output_type": "stream",
          "name": "stdout",
          "text": [
            "19\n"
          ]
        }
      ],
      "source": [
        "import random\n",
        "\n",
        "randNum = random.randint(10, 20)\n",
        "print(randNum)"
      ]
    },
    {
      "cell_type": "markdown",
      "source": [
        "Determine odd or even number"
      ],
      "metadata": {
        "id": "wGHk_a5RJKXd"
      }
    },
    {
      "cell_type": "code",
      "source": [
        "if randNum % 2 == 0:\n",
        "  print(randNum, \" is an even number\")\n",
        "else:\n",
        "  print(randNum, \" is an odd number\")"
      ],
      "metadata": {
        "colab": {
          "base_uri": "https://localhost:8080/"
        },
        "id": "7NRaKOVbJOXC",
        "outputId": "3a825da4-7819-480c-8ff4-353df235abeb"
      },
      "execution_count": null,
      "outputs": [
        {
          "output_type": "stream",
          "name": "stdout",
          "text": [
            "19  is an odd number\n"
          ]
        }
      ]
    },
    {
      "cell_type": "markdown",
      "source": [
        "Add the rand number to a list"
      ],
      "metadata": {
        "id": "i4WcccbcKCd2"
      }
    },
    {
      "cell_type": "code",
      "source": [
        "import random\n",
        "\n",
        "randlist = [] #create an empty list\n",
        "\n",
        "randNum = random.randint(10, 20) #generate a random number\n",
        "\n",
        "randlist.append(randNum)\n",
        "print(randlist)\n"
      ],
      "metadata": {
        "colab": {
          "base_uri": "https://localhost:8080/"
        },
        "id": "o4yXJynpJOMT",
        "outputId": "08b01691-875f-45a2-a7b3-ac914ea4109e"
      },
      "execution_count": null,
      "outputs": [
        {
          "output_type": "stream",
          "name": "stdout",
          "text": [
            "[17]\n"
          ]
        }
      ]
    },
    {
      "cell_type": "code",
      "source": [
        "#Generate and Add five rand numbers into the list\n",
        "\n",
        "import random\n",
        "\n",
        "randlist = [] #create an empty list\n",
        "\n",
        "for item in range (1,6):\n",
        "  randNum = random.randint(10, 20) #generate a random number\n",
        "  randlist.append(randNum)\n",
        "\n",
        "print(randlist)\n"
      ],
      "metadata": {
        "colab": {
          "base_uri": "https://localhost:8080/"
        },
        "id": "VNV0sdxhKtQW",
        "outputId": "d76ade06-8483-41aa-c402-3fd42b2df72d"
      },
      "execution_count": null,
      "outputs": [
        {
          "output_type": "stream",
          "name": "stdout",
          "text": [
            "[15, 10, 10, 17, 18]\n"
          ]
        }
      ]
    },
    {
      "cell_type": "code",
      "source": [
        "#Random numbers added to odd or even list\n",
        "import random\n",
        "\n",
        "randlist = [] #create an empty list\n",
        "evenlist = []\n",
        "oddlist = []\n",
        "\n",
        "for item in range (1,11):\n",
        "  randNum = random.randint(10, 20) #generate a random number\n",
        "  randlist.append(randNum)\n",
        "  \n",
        "  if randNum % 2 == 0:\n",
        "    evenlist.append(randNum)\n",
        "    #3print(randNum, \" is an even number\")\n",
        "  else:\n",
        "    oddlist.append(randNum)\n",
        "    #print(randNum, \" is an odd number\")\n",
        "\n",
        "print(randlist)\n",
        "print(\"The even number list is \", evenlist)\n",
        "print(\"The odd number list is \", oddlist)\n"
      ],
      "metadata": {
        "colab": {
          "base_uri": "https://localhost:8080/"
        },
        "id": "OU5lbLXbLuKQ",
        "outputId": "12a0ed26-cc79-4165-d8f1-c0be69be3133"
      },
      "execution_count": null,
      "outputs": [
        {
          "output_type": "stream",
          "name": "stdout",
          "text": [
            "[17, 19, 10, 19, 19, 18, 19, 18, 17, 17]\n",
            "The even number list is  [10, 18, 18]\n",
            "The odd number list is  [17, 19, 19, 19, 19, 17, 17]\n"
          ]
        }
      ]
    },
    {
      "cell_type": "markdown",
      "source": [
        "## Optional: \n",
        "### Randomly generate numbers and store in two lists: odd and even.\n",
        "### For each list find the minimum, maximum and average\n",
        "\n",
        "`min()`, `max()` and `len()`"
      ],
      "metadata": {
        "id": "zjjcoEONXf23"
      }
    },
    {
      "cell_type": "code",
      "source": [
        ""
      ],
      "metadata": {
        "id": "ZduCTWusYA1m"
      },
      "execution_count": null,
      "outputs": []
    }
  ]
}