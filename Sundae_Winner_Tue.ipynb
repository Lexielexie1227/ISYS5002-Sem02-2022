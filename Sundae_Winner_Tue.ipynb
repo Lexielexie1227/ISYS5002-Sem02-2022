{
  "nbformat": 4,
  "nbformat_minor": 0,
  "metadata": {
    "colab": {
      "name": "Sundae_Winner-Tue.ipynb",
      "provenance": [],
      "authorship_tag": "ABX9TyPB/DpWN9BtgnBXeI0lw1ro",
      "include_colab_link": true
    },
    "kernelspec": {
      "name": "python3",
      "display_name": "Python 3"
    },
    "language_info": {
      "name": "python"
    }
  },
  "cells": [
    {
      "cell_type": "markdown",
      "metadata": {
        "id": "view-in-github",
        "colab_type": "text"
      },
      "source": [
        "<a href=\"https://colab.research.google.com/github/rohini-balapumi/ISYS5002-Sem02-2022/blob/main/Sundae_Winner_Tue.ipynb\" target=\"_parent\"><img src=\"https://colab.research.google.com/assets/colab-badge.svg\" alt=\"Open In Colab\"/></a>"
      ]
    },
    {
      "cell_type": "markdown",
      "source": [
        "# Sundae Winner program\n",
        "This program randomly chooses a winner for the sundae ice-cream!"
      ],
      "metadata": {
        "id": "YhQBg1vlrgv9"
      }
    },
    {
      "cell_type": "code",
      "source": [
        "customers = ['Jimmy', 'Kim', 'John', 'Stacie', 'Rohini']"
      ],
      "metadata": {
        "id": "9_zS4zJasC4L"
      },
      "execution_count": 20,
      "outputs": []
    },
    {
      "cell_type": "code",
      "source": [
        "import random #telling the Python interpreter that we are using the random module"
      ],
      "metadata": {
        "id": "D3UhfUrtstfc"
      },
      "execution_count": 21,
      "outputs": []
    },
    {
      "cell_type": "code",
      "execution_count": 27,
      "metadata": {
        "colab": {
          "base_uri": "https://localhost:8080/",
          "height": 35
        },
        "id": "T-wizqu7rfBk",
        "outputId": "28dbc6d5-9a91-4187-ae3b-31c54e681478"
      },
      "outputs": [
        {
          "output_type": "execute_result",
          "data": {
            "text/plain": [
              "'Rohini'"
            ],
            "application/vnd.google.colaboratory.intrinsic+json": {
              "type": "string"
            }
          },
          "metadata": {},
          "execution_count": 27
        }
      ],
      "source": [
        "winner = random.choice(customers) #choice method from the random module to randomly select a customer\n",
        "winner #type the variable name to see what is held in the variable"
      ]
    },
    {
      "cell_type": "code",
      "source": [
        "flavor = 'vanilla'"
      ],
      "metadata": {
        "id": "weOOR-kmsRTL"
      },
      "execution_count": 2,
      "outputs": []
    },
    {
      "cell_type": "code",
      "source": [
        "print('Congratulations ' + winner + ' you have won an ice cream sundae!')"
      ],
      "metadata": {
        "colab": {
          "base_uri": "https://localhost:8080/"
        },
        "id": "XxUFrdQ5sT3a",
        "outputId": "7fc23fd4-7d8e-4544-999a-621a69e6723b"
      },
      "execution_count": 6,
      "outputs": [
        {
          "output_type": "stream",
          "name": "stdout",
          "text": [
            "Congratulations Jimmy you have won an ice cream sundae!\n"
          ]
        }
      ]
    },
    {
      "cell_type": "code",
      "source": [
        "prompt = 'Would you like a cherry on top? '"
      ],
      "metadata": {
        "id": "3Bdgn2jlsXgM"
      },
      "execution_count": 7,
      "outputs": []
    },
    {
      "cell_type": "code",
      "source": [
        "wants_cherry = input(prompt)"
      ],
      "metadata": {
        "colab": {
          "base_uri": "https://localhost:8080/"
        },
        "id": "hbpoxPJasZOM",
        "outputId": "bd9d3681-b368-45bf-861e-ec21efe721aa"
      },
      "execution_count": 8,
      "outputs": [
        {
          "name": "stdout",
          "output_type": "stream",
          "text": [
            "Would you like a cherry on top? yes\n"
          ]
        }
      ]
    },
    {
      "cell_type": "code",
      "source": [
        "order = flavor + ' sundae '"
      ],
      "metadata": {
        "id": "R826mreZscNS"
      },
      "execution_count": 9,
      "outputs": []
    },
    {
      "cell_type": "code",
      "source": [
        "if (wants_cherry == 'yes'):\n",
        " order = order + ' with a cherry on top'"
      ],
      "metadata": {
        "id": "V0QNqqCfse2d"
      },
      "execution_count": 10,
      "outputs": []
    },
    {
      "cell_type": "code",
      "source": [
        "print('One ' + order + ' for ' + winner +\n",
        " ' coming right up...')"
      ],
      "metadata": {
        "colab": {
          "base_uri": "https://localhost:8080/"
        },
        "id": "VrtbnORfshAP",
        "outputId": "605654ef-6b80-461b-a83e-83dd9cd84ca3"
      },
      "execution_count": 12,
      "outputs": [
        {
          "output_type": "stream",
          "name": "stdout",
          "text": [
            "One vanilla sundae  with a cherry on top for Jimmy coming right up...\n"
          ]
        }
      ]
    },
    {
      "cell_type": "code",
      "source": [
        ""
      ],
      "metadata": {
        "id": "6EoowEU3ukF3"
      },
      "execution_count": null,
      "outputs": []
    },
    {
      "cell_type": "markdown",
      "source": [
        "## Final code of Sundae Winner"
      ],
      "metadata": {
        "id": "k6UinZteuZ4P"
      }
    },
    {
      "cell_type": "code",
      "source": [
        "import random #importing the random module\n",
        "\n",
        "customers = ['Jimmy', 'Kim', 'John', 'Stacie'] #making a list of customers\n",
        "\n",
        "winner = random.choice(customers)\n",
        "\n",
        "flavor = 'vanilla'\n",
        "\n",
        "print('Congratulations ' + winner + ' you have won an ice cream sundae!')\n",
        "\n",
        "prompt = 'Would you like a cherry on top? '\n",
        "\n",
        "wants_cherry = input(prompt)\n",
        "\n",
        "order = flavor + ' sundae '\n",
        "\n",
        "if (wants_cherry == 'yes'):\n",
        " order = order + ' with a cherry on top'\n",
        "\n",
        "print('One ' + order + ' for ' + winner +  ' coming right up...')"
      ],
      "metadata": {
        "colab": {
          "base_uri": "https://localhost:8080/"
        },
        "id": "Bp__qh1KuHd1",
        "outputId": "a126ca45-86c0-4ec3-813f-7702d910b034"
      },
      "execution_count": 28,
      "outputs": [
        {
          "output_type": "stream",
          "name": "stdout",
          "text": [
            "Congratulations Jimmy you have won an ice cream sundae!\n",
            "Would you like a cherry on top? yes\n",
            "One vanilla sundae  with a cherry on top for Jimmy coming right up...\n"
          ]
        }
      ]
    }
  ]
}