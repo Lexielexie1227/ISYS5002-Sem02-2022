{
  "nbformat": 4,
  "nbformat_minor": 0,
  "metadata": {
    "colab": {
      "name": "02_SimpleInterestCalculator.ipynb",
      "provenance": [],
      "authorship_tag": "ABX9TyOUeg4AzsPH4L5PcGAFCRmY",
      "include_colab_link": true
    },
    "kernelspec": {
      "name": "python3",
      "display_name": "Python 3"
    },
    "language_info": {
      "name": "python"
    }
  },
  "cells": [
    {
      "cell_type": "markdown",
      "metadata": {
        "id": "view-in-github",
        "colab_type": "text"
      },
      "source": [
        "<a href=\"https://colab.research.google.com/github/rohini-balapumi/ISYS5002-Sem02-2022/blob/main/02_SimpleInterestCalculator.ipynb\" target=\"_parent\"><img src=\"https://colab.research.google.com/assets/colab-badge.svg\" alt=\"Open In Colab\"/></a>"
      ]
    },
    {
      "cell_type": "markdown",
      "source": [
        "# Simple Interest Calculator\n",
        "\n",
        "The process of problem solving we will use can be broken down into 6 key steps:\n",
        "1. State the problem clearly\n",
        "2. Describe the input and output information\n",
        "3. Work the problem by hand\n",
        "4. Develop an algorithm / pseudocode\n",
        "5. Convert pseudoce to Python program code\n",
        "6. Test solution with a variety of data\n",
        "\n",
        "## Work Flow\n",
        "1. Save to Github\n",
        "2. Analyse problem/requirement & Design the algorithm/pseudocode\n",
        "3. Write and test the program"
      ],
      "metadata": {
        "id": "iGq9-ZTb3VCF"
      }
    },
    {
      "cell_type": "markdown",
      "source": [
        "# Problem/Requirement:\n",
        "\n",
        "Bank ABC wants to calculate their client's loan interest using the simple interest method as explained at https://www.bankrate.com/loans/personal-loans/how-to-calculate-loan-interest/\n",
        "\n",
        "Write a program for bank ABC to compute the loan interest on their client's borrowed amount based on the simple interest method. \n",
        "\n",
        "\n",
        "\n",
        "\n"
      ],
      "metadata": {
        "id": "bhfP5hvE4k7C"
      }
    },
    {
      "cell_type": "markdown",
      "source": [
        "# 1. State Problem Clearly"
      ],
      "metadata": {
        "id": "DSkLjERz3vF4"
      }
    },
    {
      "cell_type": "markdown",
      "source": [
        ""
      ],
      "metadata": {
        "id": "tVaK-EQo4ff8"
      }
    },
    {
      "cell_type": "code",
      "source": [
        ""
      ],
      "metadata": {
        "id": "KDozzRhU9z2l"
      },
      "execution_count": null,
      "outputs": []
    },
    {
      "cell_type": "markdown",
      "source": [
        "# 2. Describe Inputs and Outputs"
      ],
      "metadata": {
        "id": "25s3HK5730CD"
      }
    },
    {
      "cell_type": "markdown",
      "source": [
        ""
      ],
      "metadata": {
        "id": "JLhIpogG4gKn"
      }
    },
    {
      "cell_type": "markdown",
      "source": [
        "# 3. Work the problem by hand - worked example"
      ],
      "metadata": {
        "id": "6f4dt-ln37HF"
      }
    },
    {
      "cell_type": "markdown",
      "source": [
        ""
      ],
      "metadata": {
        "id": "RQ-us6qf4g5A"
      }
    },
    {
      "cell_type": "markdown",
      "source": [
        "# 4. Develop an Algorithm/Pseudocode"
      ],
      "metadata": {
        "id": "LoEHWS9p4Edn"
      }
    },
    {
      "cell_type": "markdown",
      "source": [
        ""
      ],
      "metadata": {
        "id": "pBknQciS4KeR"
      }
    },
    {
      "cell_type": "markdown",
      "source": [
        "# 5. Convert Pseudocode to Python Code"
      ],
      "metadata": {
        "id": "dtlaNDkf4TZ0"
      }
    },
    {
      "cell_type": "code",
      "execution_count": null,
      "metadata": {
        "id": "gh53G9xt2_KJ"
      },
      "outputs": [],
      "source": [
        ""
      ]
    },
    {
      "cell_type": "markdown",
      "source": [
        "# 6. Test Solution with a variety of data"
      ],
      "metadata": {
        "id": "4gSCYBI74Yf-"
      }
    },
    {
      "cell_type": "code",
      "source": [
        ""
      ],
      "metadata": {
        "id": "s5tVf-P44dTj"
      },
      "execution_count": null,
      "outputs": []
    }
  ]
}