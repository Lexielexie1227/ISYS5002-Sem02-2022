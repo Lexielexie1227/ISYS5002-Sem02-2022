{
  "cells": [
    {
      "cell_type": "markdown",
      "metadata": {
        "id": "view-in-github",
        "colab_type": "text"
      },
      "source": [
        "<a href=\"https://colab.research.google.com/github/Lexielexie1227/ISYS5002-Sem02-2022/blob/main/05_input_validation_Tue.ipynb\" target=\"_parent\"><img src=\"https://colab.research.google.com/assets/colab-badge.svg\" alt=\"Open In Colab\"/></a>"
      ]
    },
    {
      "cell_type": "markdown",
      "id": "b5835b0c",
      "metadata": {
        "id": "b5835b0c"
      },
      "source": [
        "# Input Validation\n",
        "\n",
        "Input validation code verifies that user supplied data, such as text from the input() function, is formatted appropriately.\n",
        "\n",
        "* isdigit()\n",
        "* try/except\n",
        "* PyInputPlus\n",
        "\n"
      ]
    },
    {
      "cell_type": "code",
      "source": [
        "pay_rate = int(input(\"Enter the hourly pay rate: \"))"
      ],
      "metadata": {
        "id": "BA8h-pV08W0s",
        "colab": {
          "base_uri": "https://localhost:8080/"
        },
        "outputId": "45a67448-2a0a-4c19-ede0-a6d316b9ce2d"
      },
      "id": "BA8h-pV08W0s",
      "execution_count": 1,
      "outputs": [
        {
          "name": "stdout",
          "output_type": "stream",
          "text": [
            "Enter the hourly pay rate: 1\n"
          ]
        }
      ]
    },
    {
      "cell_type": "markdown",
      "id": "acc7252b",
      "metadata": {
        "id": "acc7252b"
      },
      "source": [
        "## isdigit()"
      ]
    },
    {
      "cell_type": "code",
      "execution_count": 2,
      "id": "695b1f5f",
      "metadata": {
        "id": "695b1f5f",
        "colab": {
          "base_uri": "https://localhost:8080/"
        },
        "outputId": "43c8fcff-2e5e-4a82-feb0-8496940b352d"
      },
      "outputs": [
        {
          "name": "stdout",
          "output_type": "stream",
          "text": [
            "Enter the hourly pay rate: 33\n"
          ]
        },
        {
          "output_type": "execute_result",
          "data": {
            "text/plain": [
              "str"
            ]
          },
          "metadata": {},
          "execution_count": 2
        }
      ],
      "source": [
        "pay_rate = input(\"Enter the hourly pay rate: \")\n",
        "type(pay_rate)"
      ]
    },
    {
      "cell_type": "code",
      "source": [
        "\n",
        "while True:\n",
        "  pay_rate = input(\"Enter the hourly pay rate: \")\n",
        "  if pay_rate.isdigit():\n",
        "    float(pay_rate)\n",
        "    print(\"The pay rate is \", float(pay_rate))\n",
        "    break\n",
        "  else:\n",
        "    print(\"Please enter a valid numeric input for pay rate. Please try again\\n\")\n",
        "\n"
      ],
      "metadata": {
        "id": "2T1VPdz4e35q",
        "colab": {
          "base_uri": "https://localhost:8080/"
        },
        "outputId": "be910fc8-1f78-4cc3-fd0a-283f9044a457"
      },
      "id": "2T1VPdz4e35q",
      "execution_count": 3,
      "outputs": [
        {
          "output_type": "stream",
          "name": "stdout",
          "text": [
            "Enter the hourly pay rate: 1\n",
            "The pay rate is  1.0\n"
          ]
        }
      ]
    },
    {
      "cell_type": "markdown",
      "source": [
        "## try/except"
      ],
      "metadata": {
        "id": "qbYXnPLGeY6m"
      },
      "id": "qbYXnPLGeY6m"
    },
    {
      "cell_type": "code",
      "execution_count": 4,
      "id": "5f98c241",
      "metadata": {
        "id": "5f98c241",
        "colab": {
          "base_uri": "https://localhost:8080/"
        },
        "outputId": "f6bbd74c-92f6-40f2-b530-efe059389925"
      },
      "outputs": [
        {
          "output_type": "stream",
          "name": "stdout",
          "text": [
            "Enter the hourly pay rate: 2\n",
            "2.0\n",
            "The pay rate is  2.0\n"
          ]
        }
      ],
      "source": [
        "while True:\n",
        "  try:\n",
        "    pay_rate = float(input(\"Enter the hourly pay rate: \"))\n",
        "    print(pay_rate)\n",
        "    break\n",
        "  except ValueError:\n",
        "    print(\"Invalid input for pay rate. Please Enter a numeric value\")\n",
        "  except:\n",
        "    print(\"Error in input\\n\")\n",
        "\n",
        "print(\"The pay rate is \", pay_rate)"
      ]
    },
    {
      "cell_type": "code",
      "source": [],
      "metadata": {
        "id": "zrBmlwko8D6Z"
      },
      "id": "zrBmlwko8D6Z",
      "execution_count": null,
      "outputs": []
    },
    {
      "cell_type": "markdown",
      "id": "18c00dc3",
      "metadata": {
        "id": "18c00dc3"
      },
      "source": [
        "## Module: PyInputPlus"
      ]
    },
    {
      "cell_type": "code",
      "execution_count": 5,
      "id": "dfe1740b",
      "metadata": {
        "id": "dfe1740b",
        "colab": {
          "base_uri": "https://localhost:8080/"
        },
        "outputId": "fb287dca-b20a-4da5-82b1-4af0ecca6f83"
      },
      "outputs": [
        {
          "output_type": "stream",
          "name": "stdout",
          "text": [
            "Looking in indexes: https://pypi.org/simple, https://us-python.pkg.dev/colab-wheels/public/simple/\n",
            "Collecting PyInputPlus\n",
            "  Downloading PyInputPlus-0.2.12.tar.gz (20 kB)\n",
            "  Installing build dependencies ... \u001b[?25l\u001b[?25hdone\n",
            "  Getting requirements to build wheel ... \u001b[?25l\u001b[?25hdone\n",
            "    Preparing wheel metadata ... \u001b[?25l\u001b[?25hdone\n",
            "Collecting stdiomask>=0.0.3\n",
            "  Downloading stdiomask-0.0.6.tar.gz (3.6 kB)\n",
            "  Installing build dependencies ... \u001b[?25l\u001b[?25hdone\n",
            "  Getting requirements to build wheel ... \u001b[?25l\u001b[?25hdone\n",
            "    Preparing wheel metadata ... \u001b[?25l\u001b[?25hdone\n",
            "Collecting pysimplevalidate>=0.2.7\n",
            "  Downloading PySimpleValidate-0.2.12.tar.gz (22 kB)\n",
            "  Installing build dependencies ... \u001b[?25l\u001b[?25hdone\n",
            "  Getting requirements to build wheel ... \u001b[?25l\u001b[?25hdone\n",
            "    Preparing wheel metadata ... \u001b[?25l\u001b[?25hdone\n",
            "Building wheels for collected packages: PyInputPlus, pysimplevalidate, stdiomask\n",
            "  Building wheel for PyInputPlus (PEP 517) ... \u001b[?25l\u001b[?25hdone\n",
            "  Created wheel for PyInputPlus: filename=PyInputPlus-0.2.12-py3-none-any.whl size=11315 sha256=0fcba2e1b4522d0154e6bdc5fed80202f38864834b733e117b49fac9d9397697\n",
            "  Stored in directory: /root/.cache/pip/wheels/e7/33/73/719f8f1bd984d39face880fd22f6c5ef1b85f726e84c687094\n",
            "  Building wheel for pysimplevalidate (PEP 517) ... \u001b[?25l\u001b[?25hdone\n",
            "  Created wheel for pysimplevalidate: filename=PySimpleValidate-0.2.12-py3-none-any.whl size=16193 sha256=3ba9a67287b2d77564b19ea6636be9c1d36a3f8df63d940d69237396d17807a4\n",
            "  Stored in directory: /root/.cache/pip/wheels/5a/8b/6c/2925d22b93860bdc9b8ce02c3d2cf79336606f7469cef66065\n",
            "  Building wheel for stdiomask (PEP 517) ... \u001b[?25l\u001b[?25hdone\n",
            "  Created wheel for stdiomask: filename=stdiomask-0.0.6-py3-none-any.whl size=3321 sha256=c3a138a0e25007a6fb0d217fa2fc5108d3c86d056d9ab17f499fc0dd851fc241\n",
            "  Stored in directory: /root/.cache/pip/wheels/cf/13/89/64d0d3b167759523f4c1e68f883bbc30e7bfa27050edeb418e\n",
            "Successfully built PyInputPlus pysimplevalidate stdiomask\n",
            "Installing collected packages: stdiomask, pysimplevalidate, PyInputPlus\n",
            "Successfully installed PyInputPlus-0.2.12 pysimplevalidate-0.2.12 stdiomask-0.0.6\n"
          ]
        }
      ],
      "source": [
        "pip install PyInputPlus "
      ]
    },
    {
      "cell_type": "code",
      "source": [
        "import pyinputplus as pyip\n",
        "while True:\n",
        "\n",
        "  #payRate = pyip.inputNum(\"Please enter the hourly pay rate.\")\n",
        "  payRate = pyip.inputFloat(\"Please enter the hourly pay rate.\")\n",
        "\n",
        "  response = pyip.inputYesNo(\"Would you like to continue?\")\n",
        "  if response == 'no':\n",
        "    break\n",
        "\n",
        "\n",
        "print(payRate)\n",
        "\n",
        "\n",
        "\n"
      ],
      "metadata": {
        "id": "OvqPitIkh379",
        "colab": {
          "base_uri": "https://localhost:8080/"
        },
        "outputId": "9a62b3e0-4953-4699-b1ac-eec4ac5821d8"
      },
      "id": "OvqPitIkh379",
      "execution_count": null,
      "outputs": [
        {
          "metadata": {
            "tags": null
          },
          "name": "stdout",
          "output_type": "stream",
          "text": [
            "Please enter the hourly pay rate.Would you like to continue?'3' is not a valid yes/no response.\n",
            "Would you like to continue?'4' is not a valid yes/no response.\n",
            "Would you like to continue?'4' is not a valid yes/no response.\n",
            "Would you like to continue?'3' is not a valid yes/no response.\n",
            "Would you like to continue?'4.5' is not a valid yes/no response.\n",
            "Would you like to continue?"
          ]
        }
      ]
    },
    {
      "cell_type": "markdown",
      "source": [
        "# Task: Implement input validation for Pay slip program\n",
        "\n",
        "- forthnightly payslip for hourly paid employee\n",
        "- pay after tax each forthnight"
      ],
      "metadata": {
        "id": "C2lOxtVxAbUf"
      },
      "id": "C2lOxtVxAbUf"
    }
  ],
  "metadata": {
    "kernelspec": {
      "display_name": "Python 3 (ipykernel)",
      "language": "python",
      "name": "python3"
    },
    "language_info": {
      "codemirror_mode": {
        "name": "ipython",
        "version": 3
      },
      "file_extension": ".py",
      "mimetype": "text/x-python",
      "name": "python",
      "nbconvert_exporter": "python",
      "pygments_lexer": "ipython3",
      "version": "3.9.6"
    },
    "colab": {
      "name": "05_input_validation_Tue.ipynb",
      "provenance": [],
      "include_colab_link": true
    }
  },
  "nbformat": 4,
  "nbformat_minor": 5
}