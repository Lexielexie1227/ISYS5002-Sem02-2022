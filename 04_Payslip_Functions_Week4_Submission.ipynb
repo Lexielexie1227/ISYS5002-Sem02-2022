{
  "nbformat": 4,
  "nbformat_minor": 0,
  "metadata": {
    "colab": {
      "name": "04_Payslip_Functions-Week4_Submission.ipynb",
      "provenance": [],
      "include_colab_link": true
    },
    "kernelspec": {
      "name": "python3",
      "display_name": "Python 3"
    },
    "language_info": {
      "name": "python"
    }
  },
  "cells": [
    {
      "cell_type": "markdown",
      "metadata": {
        "id": "view-in-github",
        "colab_type": "text"
      },
      "source": [
        "<a href=\"https://colab.research.google.com/github/Lexielexie1227/ISYS5002-Sem02-2022/blob/main/04_Payslip_Functions_Week4_Submission.ipynb\" target=\"_parent\"><img src=\"https://colab.research.google.com/assets/colab-badge.svg\" alt=\"Open In Colab\"/></a>"
      ]
    },
    {
      "cell_type": "markdown",
      "source": [
        "# Task: Write a program to print out a payslip for hourly paid employees. <br>\n",
        "Modify the Gross pay & paylisp activities to print out a payslip for hourly paid employees.<br>Refer to week 2's Gross Pay and week 3's Payslip submission activities.\n",
        "\n",
        "[What has to be on a pay slip?](https://www.fairwork.gov.au/pay-and-wages/paying-wages/pay-slips#what-has-to-be-on-a-pay-slip)\n",
        "\n",
        "[Resident tax rates 2022–23](https://www.ato.gov.au/rates/individual-income-tax-rates/)"
      ],
      "metadata": {
        "id": "2jQsL4QPFfuG"
      }
    },
    {
      "cell_type": "markdown",
      "source": [
        "# Implement this Payslip program as functions:\n",
        "\n",
        "- Function to receive details to calculate income\n",
        "- Function to calculate income, tax payable & income after tax\n",
        "- Function to print the payslip with details: \n",
        "> employee name, hourly pay rate, hours worked, gross income, tax payable, income after tax\n",
        "\n"
      ],
      "metadata": {
        "id": "u6HZryjcFBok"
      }
    },
    {
      "cell_type": "markdown",
      "source": [
        "## Step 1: Get Income details"
      ],
      "metadata": {
        "id": "r2IUoUrsGfyW"
      }
    },
    {
      "cell_type": "code",
      "source": [
        "\n",
        "income = int(input(\"What is your income for the year? \"))\n",
        "print(\"Your income is \" , income)"
      ],
      "metadata": {
        "id": "BQq3gCd1GVwf",
        "colab": {
          "base_uri": "https://localhost:8080/"
        },
        "outputId": "7c878876-ad4b-4cc1-f7dd-1abaf60e4e34"
      },
      "execution_count": 7,
      "outputs": [
        {
          "output_type": "stream",
          "name": "stdout",
          "text": [
            "What is your income for the year? 190000\n",
            "Your income is  190000\n"
          ]
        }
      ]
    },
    {
      "cell_type": "markdown",
      "source": [
        "## Step 2: Calculate the income, tax payable & income after tax"
      ],
      "metadata": {
        "id": "pgt-5XVqGnWG"
      }
    },
    {
      "cell_type": "code",
      "source": [
        "if income <= 18200:\n",
        "  tax_payable = 0\n",
        "elif 18200 < income <= 45000: \n",
        "  tax_payable = 0.19 * (income - 18200)\n",
        "elif 45000 < income <= 120000:\n",
        "  tax_payable = 5092 + 0.32 * (income - 45000)\n",
        "elif 120000 < income <= 180000:\n",
        "  tax_payable = 29467 + 0.37 * (income - 120000)\n",
        "elif income > 180000:     \n",
        "  tax_payable = 51667 + 0.45 * (income - 180000)        \n",
        "print(\"Your tax payable is \", tax_payable)"
      ],
      "metadata": {
        "id": "WIXvwfVVGtbM",
        "colab": {
          "base_uri": "https://localhost:8080/"
        },
        "outputId": "f4c472ba-d1ef-4c6a-b2b8-5bf34ced80f8"
      },
      "execution_count": 8,
      "outputs": [
        {
          "output_type": "stream",
          "name": "stdout",
          "text": [
            "Your tax payable is  56167.0\n"
          ]
        }
      ]
    },
    {
      "cell_type": "markdown",
      "source": [
        "## Step 3: Print the payslip"
      ],
      "metadata": {
        "id": "kO2J7-wTGt-k"
      }
    },
    {
      "cell_type": "code",
      "source": [
        "def get_income():\n",
        "  income = int(input(\"What is your income for the year? \"))\n",
        "  print(\"Your income is \" , income)\n",
        "  return income\n",
        "\n",
        "def calculate_tax(income):\n",
        "  if income <=18200:\n",
        "    tax_payable = 0\n",
        "  elif income <=45000:\n",
        "    tax_payable = ( income - 18200 ) * 0.19 \n",
        "  elif income <=120000:\n",
        "    tax_payable = ( income - 45000 ) * 0.325 + 5092\n",
        "  elif income <=180000:\n",
        "    tax_payable = ( income - 120000 ) * 0.37 + 29467\n",
        "  else:\n",
        "    tax_payable = ( income - 180000 ) * 0.45 + 51667\n",
        "  return tax_payable"
      ],
      "metadata": {
        "id": "Q0NmbiWUG7A8"
      },
      "execution_count": 14,
      "outputs": []
    },
    {
      "cell_type": "markdown",
      "metadata": {
        "id": "BNdsJ9jszwRi"
      },
      "source": [
        "## Task 2 - Complete the program"
      ]
    },
    {
      "cell_type": "code",
      "execution_count": 15,
      "metadata": {
        "id": "pd8m2I1uMuAu",
        "colab": {
          "base_uri": "https://localhost:8080/"
        },
        "outputId": "93f70e70-8c40-429f-9d16-48e4630597f7"
      },
      "outputs": [
        {
          "output_type": "stream",
          "name": "stdout",
          "text": [
            "What is your income for the year? 199999\n",
            "Your income is  199999\n",
            "Your tax payable is  60666.55\n"
          ]
        }
      ],
      "source": [
        "# 'Main line'\n",
        "\n",
        "# Step 1 - Get details\n",
        "income = get_income()\n",
        "# Step 2 - Calculate \n",
        "tax= calculate_tax(income)\n",
        "\n",
        "# Step 3 - Output result - Print payslip\n",
        "print(\"Your tax payable is \", tax)\n"
      ]
    }
  ]
}