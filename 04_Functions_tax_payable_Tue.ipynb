{
  "nbformat": 4,
  "nbformat_minor": 0,
  "metadata": {
    "colab": {
      "name": "04_Functions_tax_payable_Tue.ipynb",
      "provenance": [],
      "collapsed_sections": [],
      "authorship_tag": "ABX9TyNQZLgu259cgCDGUOUKVVxc",
      "include_colab_link": true
    },
    "kernelspec": {
      "name": "python3",
      "display_name": "Python 3"
    },
    "language_info": {
      "name": "python"
    }
  },
  "cells": [
    {
      "cell_type": "markdown",
      "metadata": {
        "id": "view-in-github",
        "colab_type": "text"
      },
      "source": [
        "<a href=\"https://colab.research.google.com/github/rohini-balapumi/ISYS5002-Sem02-2022/blob/main/04_Functions_tax_payable_Tue.ipynb\" target=\"_parent\"><img src=\"https://colab.research.google.com/assets/colab-badge.svg\" alt=\"Open In Colab\"/></a>"
      ]
    },
    {
      "cell_type": "markdown",
      "metadata": {
        "id": "bVMwNyExqHgH"
      },
      "source": [
        "# Tax Calculation\n",
        "\n",
        "Write a program the prompts the user for their income and calculates the \n",
        "tax payable based on the Australian Tax Office [Resident tax rates 2021–22\n",
        "Taxable income](https://www.ato.gov.au/rates/individual-income-tax-rates/)\n",
        "\n",
        "Income            | Tax on this income \n",
        "------------------|----------------------\n",
        "0 – \\$18,200       | Nil\n",
        "\\$18,201 – \\$45,000 | 19 cents for each \\$1 over \\$18,200\n",
        "\\$45,001 – \\$120,000 | \\$5,092 plus 32.5 cents for each \\$1 over \\$45,000\n",
        "\\$120,001 – \\$180,000 |  \\$29,467 plus 37 cents for each \\$1 over \\$120,000\n",
        "\\$180,001 and over | \\$51,667 plus 45 cents for each \\$1 over \\$180,000\n",
        "\n",
        "## Task 0 - Import notebook to GitHub\n",
        "\n",
        "First, import the notebook into Colab and save an initial copy to GitHub."
      ]
    },
    {
      "cell_type": "markdown",
      "metadata": {
        "id": "GQPi2a6VI0rf"
      },
      "source": [
        "## Task 1 - Complete Tax Payable Function\n",
        "\n",
        "When you apply the 5-step process you will end up with an algorithm. Here \n",
        "is a very simple algorithm to solve our simple program.  We often call this\n",
        "a high level overview of the problem.  We now know enough about computers and \n",
        "programming now to understand that these high level steps will need to be split \n",
        "into small steps that a computer can implement.  but these high level steps make\n",
        "good candidates for functions.  \n",
        "\n",
        "For our tax calculation problem, if we had functions to perform the following \n",
        "steps, would this solve our problem?  If not what steps would you add?\n",
        "\n",
        "1. Get the income\n",
        "2. Calculate the tax payable\n",
        "3. Output tax payable"
      ]
    },
    {
      "cell_type": "code",
      "source": [
        "# prompt user for income input and display the value\n",
        "###INPUT###\n",
        "income = int(input(\"Enter the yearly income: \"))\n",
        "#print(\"The income is\", income)\n",
        "\n",
        "###PROCESSING###\n",
        "# based on the income, determines the correct income bracket and calculates the tax payable amount\n",
        "if income <= 18200:\n",
        "  tax_payable = 0\n",
        "elif 18201 <= income <= 45000:\n",
        "  tax_payable = (income - 18200) *0.19\n",
        "elif 45000 < income <= 120000:\n",
        "  tax_payable = ((income - 45000) *0.325) + 5092\n",
        "elif 120001 <= income <= 180000:\n",
        "  tax_payable = ((income - 120000) *0.37) + 29467\n",
        "else:\n",
        "  tax_payable = ((income - 120000) *0.45) + 51667\n",
        "\n",
        "###OUTPUT###\n",
        "# Output the calculated tax payable amount\n",
        "print(\"The tax payable is$\", tax_payable)\n"
      ],
      "metadata": {
        "id": "kuwq-dEPF6Xi",
        "colab": {
          "base_uri": "https://localhost:8080/"
        },
        "outputId": "c4b78f36-9f84-4b33-eaff-8d8c19ad0fcf"
      },
      "execution_count": 1,
      "outputs": [
        {
          "output_type": "stream",
          "name": "stdout",
          "text": [
            "Enter the yearly income: 50000\n",
            "The income is 50000\n",
            "The tax payable is$ 6717.0\n"
          ]
        }
      ]
    },
    {
      "cell_type": "markdown",
      "source": [
        "## Implement the tax payable program into functions"
      ],
      "metadata": {
        "id": "-SKzJl568941"
      }
    },
    {
      "cell_type": "code",
      "execution_count": 1,
      "metadata": {
        "id": "AuzMU2B7J-q4"
      },
      "outputs": [],
      "source": [
        "def get_income():\n",
        "  '''\n",
        "  This function will prompt the user for the income\n",
        "  and return the value income\n",
        "  '''\n",
        "  income = int(input(\"What is your income for the year? \"))\n",
        "  return income\n"
      ]
    },
    {
      "cell_type": "code",
      "source": [
        "incomeVal = get_income()"
      ],
      "metadata": {
        "colab": {
          "base_uri": "https://localhost:8080/"
        },
        "id": "mnDXlhk93VN8",
        "outputId": "440a4260-7ad7-4b0f-b73f-c0dcdf57cf2f"
      },
      "execution_count": 2,
      "outputs": [
        {
          "name": "stdout",
          "output_type": "stream",
          "text": [
            "What is your income for the year? 45000\n"
          ]
        }
      ]
    },
    {
      "cell_type": "code",
      "source": [
        "incomeVal"
      ],
      "metadata": {
        "colab": {
          "base_uri": "https://localhost:8080/"
        },
        "id": "3NH7uTQ73rHz",
        "outputId": "de3de848-6331-4105-934b-a4f925de114d"
      },
      "execution_count": 4,
      "outputs": [
        {
          "output_type": "execute_result",
          "data": {
            "text/plain": [
              "45000"
            ]
          },
          "metadata": {},
          "execution_count": 4
        }
      ]
    },
    {
      "cell_type": "code",
      "source": [
        "def calculate_tax_payable(income):\n",
        "  # based on the income, determines the correct income bracket and calculates the tax payable amount\n",
        "  if income <= 18200:\n",
        "    tax_payable = 0\n",
        "  elif 18201 <= income <= 45000:\n",
        "    tax_payable = (income - 18200) *0.19\n",
        "  elif 45000 < income <= 120000:\n",
        "    tax_payable = ((income - 45000) *0.325) + 5092\n",
        "  elif 120001 <= income <= 180000:\n",
        "    tax_payable = ((income - 120000) *0.37) + 29467\n",
        "  else:\n",
        "    tax_payable = ((income - 120000) *0.45) + 51667\n",
        "  \n",
        "  return tax_payable\n"
      ],
      "metadata": {
        "id": "H7YWFR7v4YV7"
      },
      "execution_count": 5,
      "outputs": []
    },
    {
      "cell_type": "code",
      "source": [
        "taxPay = calculate_tax_payable(incomeVal)"
      ],
      "metadata": {
        "id": "fXwjLPHa5JKj"
      },
      "execution_count": 6,
      "outputs": []
    },
    {
      "cell_type": "code",
      "source": [
        "taxPay"
      ],
      "metadata": {
        "colab": {
          "base_uri": "https://localhost:8080/"
        },
        "id": "AaMkh4Ja5Vtj",
        "outputId": "09cb1a99-66fd-485b-fba3-d8bddd42faf1"
      },
      "execution_count": 7,
      "outputs": [
        {
          "output_type": "execute_result",
          "data": {
            "text/plain": [
              "5092.0"
            ]
          },
          "metadata": {},
          "execution_count": 7
        }
      ]
    },
    {
      "cell_type": "code",
      "source": [
        "def output(income, tax_payable):\n",
        "  print(\"The gross income is $\", income, sep='')\n",
        "  print(\"The tax payable is $\", tax_payable, sep='')\n",
        "  finalIncome = income - tax_payable\n",
        "  print(\"The income after tax is $\", finalIncome, sep='')"
      ],
      "metadata": {
        "id": "5zB0D1Fi7iHk"
      },
      "execution_count": 13,
      "outputs": []
    },
    {
      "cell_type": "code",
      "source": [
        "output(incomeVal, taxPay)"
      ],
      "metadata": {
        "colab": {
          "base_uri": "https://localhost:8080/"
        },
        "id": "OjXK2Ctk8MwN",
        "outputId": "9daa1162-f19f-4772-a8b8-f9e5606af0e4"
      },
      "execution_count": 14,
      "outputs": [
        {
          "output_type": "stream",
          "name": "stdout",
          "text": [
            "The gross income is $45000\n",
            "The tax payable is $5092.0\n",
            "The income after tax is $39908.0\n"
          ]
        }
      ]
    },
    {
      "cell_type": "code",
      "source": [
        "#Main program\n",
        "\n",
        "#get input\n",
        "income_input = get_income()\n",
        "\n",
        "#calculate the tax payable\n",
        "tax_to_pay = calculate_tax_payable(income_input)\n",
        "\n",
        "#display the results\n",
        "output(income_input, tax_to_pay)"
      ],
      "metadata": {
        "colab": {
          "base_uri": "https://localhost:8080/"
        },
        "id": "PLJvWdKd8nBt",
        "outputId": "99485314-7ce3-4ba2-a9fa-e81931af4c79"
      },
      "execution_count": 17,
      "outputs": [
        {
          "output_type": "stream",
          "name": "stdout",
          "text": [
            "What is your income for the year? 50000\n",
            "The gross income is $50000\n",
            "The tax payable is $6717.0\n",
            "The income after tax is $43283.0\n"
          ]
        }
      ]
    },
    {
      "cell_type": "code",
      "source": [
        "#Modified to return two values\n",
        "def get_income():\n",
        "  '''\n",
        "  This function will prompt the user for name and income\n",
        "  and return the values name and income\n",
        "  '''\n",
        "  name = (input(\"Please enter employee name.\"))\n",
        "  income = int(input(\"What is your income for the year? \"))\n",
        "  return name, income"
      ],
      "metadata": {
        "id": "kfkq0_9f97d3"
      },
      "execution_count": 20,
      "outputs": []
    },
    {
      "cell_type": "code",
      "source": [
        "#call the function which returns two value\n",
        "#unpack the returning valus in two variables\n",
        "staff, Input_income = get_income() "
      ],
      "metadata": {
        "colab": {
          "base_uri": "https://localhost:8080/"
        },
        "id": "jgfd8cuq-IJG",
        "outputId": "df5110e5-8625-41a8-da88-795839a08d7a"
      },
      "execution_count": 21,
      "outputs": [
        {
          "name": "stdout",
          "output_type": "stream",
          "text": [
            "Please enter employee name.Rohini\n",
            "What is your income for the year? 50000\n"
          ]
        }
      ]
    },
    {
      "cell_type": "code",
      "source": [
        "print(staff)\n",
        "print(Input_income)"
      ],
      "metadata": {
        "colab": {
          "base_uri": "https://localhost:8080/"
        },
        "id": "_0gsr5PU-V6n",
        "outputId": "5812a402-45af-441b-e78a-002ae34bbf90"
      },
      "execution_count": 22,
      "outputs": [
        {
          "output_type": "stream",
          "name": "stdout",
          "text": [
            "Rohini\n",
            "50000\n"
          ]
        }
      ]
    },
    {
      "cell_type": "code",
      "source": [
        "#modified output function\n",
        "def output(name, income, tax_payable):\n",
        "  print(\"Payslip for \", name, sep='')\n",
        "  print(\"The gross income is $\", income, sep='')\n",
        "  print(\"The tax payable is $\", tax_payable, sep='')\n",
        "  finalIncome = income - tax_payable\n",
        "  print(\"The income after tax is $\", finalIncome, sep='')"
      ],
      "metadata": {
        "id": "7dMcTddn-hrO"
      },
      "execution_count": 25,
      "outputs": []
    },
    {
      "cell_type": "code",
      "source": [
        "#Main program\n",
        "\n",
        "#get input\n",
        "name_input, income_input = get_income()\n",
        "\n",
        "#calculate the tax payable\n",
        "tax_to_pay = calculate_tax_payable(income_input)\n",
        "\n",
        "#display the results\n",
        "output(name_input, income_input, tax_to_pay)"
      ],
      "metadata": {
        "colab": {
          "base_uri": "https://localhost:8080/"
        },
        "id": "UaTVm26b-bw3",
        "outputId": "f7ceddbf-8124-4244-c686-554bb5fd5309"
      },
      "execution_count": 24,
      "outputs": [
        {
          "output_type": "stream",
          "name": "stdout",
          "text": [
            "Please enter employee name.Rohini\n",
            "What is your income for the year? 50000\n",
            "Payslip for Rohini\n",
            "The gross income is $50000\n",
            "The tax payable is $6717.0\n",
            "The income after tax is $43283.0\n"
          ]
        }
      ]
    },
    {
      "cell_type": "markdown",
      "metadata": {
        "id": "AYwArCuRzwRh"
      },
      "source": [
        "## Using the Residents tax rate table, complete the following function"
      ]
    },
    {
      "cell_type": "code",
      "execution_count": null,
      "metadata": {
        "id": "bIGrqfz_Mbt8"
      },
      "outputs": [],
      "source": [
        "def calculate_tax(income):\n",
        "  if income <= 18200:\n",
        "    tax_payable = 0\n",
        "  elif 18201 < income <= 45000:\n",
        "    tax_payable = 0.19 * (income - 18200)\n",
        "  elif 45000 <= income < 120000:\n",
        "    tax_payable = 5092 + 0.32 * (income - 45000)\n",
        "\n",
        "  return tax_payable\n"
      ]
    },
    {
      "cell_type": "code",
      "source": [
        ""
      ],
      "metadata": {
        "id": "f2FkF1s3IWo_"
      },
      "execution_count": null,
      "outputs": []
    },
    {
      "cell_type": "markdown",
      "metadata": {
        "id": "BNdsJ9jszwRi"
      },
      "source": [
        "## Task 2 - Complete the program"
      ]
    },
    {
      "cell_type": "code",
      "execution_count": null,
      "metadata": {
        "id": "pd8m2I1uMuAu"
      },
      "outputs": [],
      "source": [
        "# 'Main line'\n",
        "\n",
        "# Step 1 - Get the income\n",
        "\n",
        "\n",
        "# Step 2 - Calculate the tax\n",
        "\n",
        "\n",
        "# Step 3 - Output tax payable\n"
      ]
    },
    {
      "cell_type": "markdown",
      "metadata": {
        "id": "TDehZWCyzwRi"
      },
      "source": [
        "## Task 3 (Homework) - Payslip\n",
        "\n",
        "How could you use these functions with the payslip notebook?\n"
      ]
    },
    {
      "cell_type": "code",
      "source": [
        ""
      ],
      "metadata": {
        "id": "ALSfiYRTpLpA"
      },
      "execution_count": null,
      "outputs": []
    }
  ]
}