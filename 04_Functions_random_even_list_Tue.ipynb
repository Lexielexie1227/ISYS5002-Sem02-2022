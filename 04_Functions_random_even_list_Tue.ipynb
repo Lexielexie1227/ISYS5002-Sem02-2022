{
  "nbformat": 4,
  "nbformat_minor": 0,
  "metadata": {
    "colab": {
      "name": "04_Functions_random_even_list_Tue.ipynb",
      "provenance": [],
      "collapsed_sections": [],
      "authorship_tag": "ABX9TyPHa5a8G3UUCyfqreYtVcRF",
      "include_colab_link": true
    },
    "kernelspec": {
      "name": "python3",
      "display_name": "Python 3"
    },
    "language_info": {
      "name": "python"
    }
  },
  "cells": [
    {
      "cell_type": "markdown",
      "metadata": {
        "id": "view-in-github",
        "colab_type": "text"
      },
      "source": [
        "<a href=\"https://colab.research.google.com/github/rohini-balapumi/ISYS5002-Sem02-2022/blob/main/04_Functions_random_even_list_Tue.ipynb\" target=\"_parent\"><img src=\"https://colab.research.google.com/assets/colab-badge.svg\" alt=\"Open In Colab\"/></a>"
      ]
    },
    {
      "cell_type": "markdown",
      "source": [
        "# Task 1: Generate a list of *ten (10)* random *even* numbers using `while` loop"
      ],
      "metadata": {
        "id": "yoglYJWb3G5p"
      }
    },
    {
      "cell_type": "code",
      "source": [
        "# import random module\n",
        "import random\n",
        "\n",
        "evenlist = [] #define an empty list\n",
        "counter = 1 #define and set inital value for counter - a variable to keep track of the number of elements in the list\n",
        "\n",
        "while (counter <=3):\n",
        "  randNum = random.randrange(50, 100) # generate random number \n",
        "  print('randNum is', randNum)\n",
        "\n",
        "  if randNum % 2 == 0:  #check if it it even number\n",
        "    evenlist.append(randNum) #if it is an even number, add to list\n",
        "    counter = counter + 1  #counter += 1\n",
        "  \n",
        "  print(\"Counter is\", counter)\n",
        "  print(\"Items in the list \", evenlist, \"\\n\") #display/output the even list at each iteration\n",
        "  \n",
        "print(\"\\nThe final evenlist: \", evenlist) #display/output the final even list\n"
      ],
      "metadata": {
        "id": "XzaS3MJ2AG6U"
      },
      "execution_count": null,
      "outputs": []
    },
    {
      "cell_type": "markdown",
      "source": [
        "### Try with different values"
      ],
      "metadata": {
        "id": "6xYzRb3CClsX"
      }
    },
    {
      "cell_type": "code",
      "source": [
        "\"\"\"\n",
        "multi-line comments\n",
        "this program generate random numbers and \n",
        "returns a list of even numbers\n",
        "\"\"\"\n",
        "# import random module\n",
        "import random\n",
        "\n",
        "evenlist = [] #define an empty list\n",
        "counter = 1 #define and set inital value for counter - a variable to keep track of the number of elements in the list\n",
        "\n",
        "while (counter <= 10):\n",
        "  randNum = random.randrange(5, 10) # generate random number \n",
        "  print('randNum is', randNum)\n",
        "\n",
        "  if randNum % 2 == 0:  #check if it it even number\n",
        "    evenlist.append(randNum) #if it is an even number, add to list\n",
        "    counter = counter + 1  #counter += 1\n",
        "  \n",
        "  print(\"Counter is\", counter)\n",
        "  print(\"Items in the list \", evenlist, \"\\n\") #display/output the even list at each iteration\n",
        "  \n",
        "print(\"\\nThe final evenlist: \", evenlist) #display/output the final even list"
      ],
      "metadata": {
        "id": "8l_PM0vvC3CW"
      },
      "execution_count": null,
      "outputs": []
    },
    {
      "cell_type": "markdown",
      "source": [
        "# Task 2: Generalise\n",
        "\n",
        "### Make what we changed as inputs (parameters) to a function"
      ],
      "metadata": {
        "id": "mqAewt8WC3cX"
      }
    },
    {
      "cell_type": "code",
      "source": [
        "#creating a function to generate list of even numbers\n",
        "\n",
        "def generate_even_list(num, begin, end):\n",
        "  \"\"\"\n",
        "  this function display/output a list of even numbers\n",
        "  num -- number of even elements to generate\n",
        "  begin, end -- range of numbers generated randonmly between begin and end\n",
        "  \"\"\"\n",
        "\n",
        "  # import random module\n",
        "  import random\n",
        "\n",
        "  evenlist = [] #define an empty list\n",
        "  counter = 1 #define and set inital value for counter - a variable to keep track of the number of elements in the list\n",
        "\n",
        "  while (counter <= num):\n",
        "    randNum = random.randrange(begin, end) # generate random number \n",
        "    print('randNum is', randNum)\n",
        "\n",
        "    if randNum % 2 == 0:  #check if it it even number\n",
        "      evenlist.append(randNum) #if it is an even number, add to list\n",
        "      counter = counter + 1  #counter += 1\n",
        "    \n",
        "    print(\"Counter is\", counter)\n",
        "    print(\"Items in the list \", evenlist, \"\\n\") #display/output the even list at each iteration\n",
        "    \n",
        "  print(\"\\nThe final evenlist: \", evenlist) #display/output the final even list\n",
        "  "
      ],
      "metadata": {
        "id": "f3gFrgLoBfgF"
      },
      "execution_count": 46,
      "outputs": []
    },
    {
      "cell_type": "code",
      "source": [
        "generate_even_list(4, 50, 70) #function call"
      ],
      "metadata": {
        "id": "4wpktHHNtrxx"
      },
      "execution_count": null,
      "outputs": []
    },
    {
      "cell_type": "code",
      "source": [
        "#creating a function to generate list of even numbers\n",
        "\n",
        "def generate_even_list(num, begin, end):\n",
        "  \"\"\"\n",
        "  this function returns a list of even numbers\n",
        "  num -- number of even elements to generate\n",
        "  begin, end -- range of numbers generated randonmly between begin and end\n",
        "  \"\"\"\n",
        "\n",
        "  # import random module\n",
        "  import random\n",
        "\n",
        "  evenlist = [] #define an empty list\n",
        "  counter = 1 #define and set inital value for counter - a variable to keep track of the number of elements in the list\n",
        "\n",
        "  while (counter <= num):\n",
        "    randNum = random.randrange(begin, end) # generate random number \n",
        "    #print('randNum is', randNum)\n",
        "\n",
        "    if randNum % 2 == 0:  #check if it it even number\n",
        "      evenlist.append(randNum) #if it is an even number, add to list\n",
        "      counter = counter + 1  #counter += 1\n",
        "    \n",
        "    #print(\"Counter is\", counter)\n",
        "    #print(\"Items in the list \", evenlist, \"\\n\") #display/output the even list at each iteration\n",
        "    \n",
        "  #print(\"\\nThe final evenlist: \", evenlist) #display/output the final even list\n",
        "\n",
        "  return evenlist"
      ],
      "metadata": {
        "id": "ORksv_vBwuOE"
      },
      "execution_count": 47,
      "outputs": []
    },
    {
      "cell_type": "code",
      "source": [
        "myList = generate_even_list(3, 10, 50)"
      ],
      "metadata": {
        "id": "XOIS9SpXzSrA"
      },
      "execution_count": 49,
      "outputs": []
    },
    {
      "cell_type": "code",
      "source": [
        "print(myList)"
      ],
      "metadata": {
        "colab": {
          "base_uri": "https://localhost:8080/"
        },
        "id": "j6TZMywZzjuv",
        "outputId": "bbf43630-f5c0-4a7b-b597-c9d3b8f6e8bb"
      },
      "execution_count": 55,
      "outputs": [
        {
          "output_type": "stream",
          "name": "stdout",
          "text": [
            "[26, 40, 18]\n"
          ]
        }
      ]
    },
    {
      "cell_type": "code",
      "source": [
        "for i in myList:\n",
        "  print (i*2)"
      ],
      "metadata": {
        "colab": {
          "base_uri": "https://localhost:8080/"
        },
        "id": "L9Hj5eHb0GRu",
        "outputId": "bb9d4de8-6aa4-4104-b98a-da91ac336d3f"
      },
      "execution_count": 56,
      "outputs": [
        {
          "output_type": "stream",
          "name": "stdout",
          "text": [
            "52\n",
            "80\n",
            "36\n"
          ]
        }
      ]
    },
    {
      "cell_type": "markdown",
      "source": [
        "# Docstrings\n",
        "\n",
        "A docstring is a string literal that occurs as the first statement in a function, module, class, or method definition. \n",
        "\n",
        "Docstring encased in triple `\"\"\"` quotes.\n",
        "\n",
        "Docstrings are used to describe a function. \n",
        " - what a function does, \n",
        " - the number of arguments it takes\n",
        " - the type of object it returns, etc\n",
        "\n",
        "https://peps.python.org/pep-0257/#what-is-a-docstring"
      ],
      "metadata": {
        "id": "-vluWzf0aJDF"
      }
    },
    {
      "cell_type": "code",
      "source": [
        ""
      ],
      "metadata": {
        "id": "oCq3n9_5Cawu"
      },
      "execution_count": null,
      "outputs": []
    },
    {
      "cell_type": "markdown",
      "source": [
        "# Task 3 (Optional): Write a function that takes a list as an argument and generate two lists, even list and odd list.\n",
        "\n",
        "### *Try with `for` loop*"
      ],
      "metadata": {
        "id": "8Tx-b-9EHOpH"
      }
    },
    {
      "cell_type": "code",
      "source": [
        ""
      ],
      "metadata": {
        "id": "lvQDKMHNHPxe"
      },
      "execution_count": null,
      "outputs": []
    }
  ]
}