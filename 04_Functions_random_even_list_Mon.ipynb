{
  "nbformat": 4,
  "nbformat_minor": 0,
  "metadata": {
    "colab": {
      "name": "04_Functions_random_even_list_Mon.ipynb",
      "provenance": [],
      "collapsed_sections": [],
      "authorship_tag": "ABX9TyN/H6QHTuSAdsp1f127NCc4",
      "include_colab_link": true
    },
    "kernelspec": {
      "name": "python3",
      "display_name": "Python 3"
    },
    "language_info": {
      "name": "python"
    }
  },
  "cells": [
    {
      "cell_type": "markdown",
      "metadata": {
        "id": "view-in-github",
        "colab_type": "text"
      },
      "source": [
        "<a href=\"https://colab.research.google.com/github/rohini-balapumi/ISYS5002-Sem02-2022/blob/main/04_Functions_random_even_list_Mon.ipynb\" target=\"_parent\"><img src=\"https://colab.research.google.com/assets/colab-badge.svg\" alt=\"Open In Colab\"/></a>"
      ]
    },
    {
      "cell_type": "markdown",
      "source": [
        "# Task 1: Generate a list of *ten (10)* random *even* numbers using `while` loop"
      ],
      "metadata": {
        "id": "yoglYJWb3G5p"
      }
    },
    {
      "cell_type": "code",
      "source": [
        "\"\"\"\n",
        "This is a multi-line comments\n",
        "Generates a list of even numbers\n",
        "num -- the number of elements to be generated\n",
        "begin, end -- even numbers generated between specified begin and end range\n",
        "\"\"\"\n",
        "\n",
        "# import random module\n",
        "import random\n",
        "\n",
        "evenlist = []\n",
        " #you can delete this, coz we are not using it anywhere in the code\n",
        "begin = 55\n",
        "end = 100\n",
        "\n",
        "counter = 1 \n",
        "while (counter <= 10):\n",
        "  #print(\"Counter is \", counter)\n",
        "\n",
        "  # generate random number \n",
        "  randNum = random.randrange(begin, end) \n",
        "  #print(randNum, \" is random number\")\n",
        "\n",
        "  # check if it it even number, if yes, add to list\n",
        "  if randNum % 2 == 0:  \n",
        "    evenlist.append(randNum)\n",
        "    counter = counter + 1\n",
        "    #print(\"Counter after increment \", counter)\n",
        "\n",
        "# display the even list\n",
        "print(evenlist)\n"
      ],
      "metadata": {
        "id": "XzaS3MJ2AG6U",
        "colab": {
          "base_uri": "https://localhost:8080/"
        },
        "outputId": "c17e1a21-3fe7-4be8-a38c-0004ebb4015e"
      },
      "execution_count": 16,
      "outputs": [
        {
          "output_type": "stream",
          "name": "stdout",
          "text": [
            "[94, 82, 78, 96, 68, 58, 60, 82, 74, 76]\n"
          ]
        }
      ]
    },
    {
      "cell_type": "markdown",
      "source": [
        "### Try with different values"
      ],
      "metadata": {
        "id": "6xYzRb3CClsX"
      }
    },
    {
      "cell_type": "code",
      "source": [
        "\"\"\"\n",
        "This is a multi-line comments\n",
        "Generates a list of even numbers\n",
        "num -- the number of elements to be generated\n",
        "begin, end -- even numbers generated between specified begin and end range\n",
        "\"\"\"\n",
        "\n",
        "# import random module\n",
        "import random\n",
        "\n",
        "evenlist = []\n",
        " #you can delete this, coz we are not using it anywhere in the code\n",
        "begin = 10\n",
        "end = 20\n",
        "\n",
        "counter = 1 \n",
        "while (counter <= 5):\n",
        "  #print(\"Counter is \", counter)\n",
        "\n",
        "  # generate random number \n",
        "  randNum = random.randrange(begin, end) \n",
        "  #print(randNum, \" is random number\")\n",
        "\n",
        "  # check if it it even number, if yes, add to list\n",
        "  if randNum % 2 == 0:  \n",
        "    evenlist.append(randNum)\n",
        "    counter = counter + 1\n",
        "    #print(\"Counter after increment \", counter)\n",
        "\n",
        "# display the even list\n",
        "print(evenlist)"
      ],
      "metadata": {
        "id": "8l_PM0vvC3CW",
        "colab": {
          "base_uri": "https://localhost:8080/"
        },
        "outputId": "0ede60cd-44d2-4a98-cc00-e93b3fd18f92"
      },
      "execution_count": 20,
      "outputs": [
        {
          "output_type": "stream",
          "name": "stdout",
          "text": [
            "[12, 10, 16, 14, 12]\n"
          ]
        }
      ]
    },
    {
      "cell_type": "markdown",
      "source": [
        "# Task 2: Generalise\n",
        "\n",
        "### Make what we changed as inputs (parameters) to a function"
      ],
      "metadata": {
        "id": "mqAewt8WC3cX"
      }
    },
    {
      "cell_type": "code",
      "source": [
        "def generate_even_list(num, begin, end):\n",
        "  \"\"\"\n",
        "  This is a docstring\n",
        "  Generates a list of even numbers\n",
        "  num -- the number of elements to be generated\n",
        "  begin, end -- even numbers generated between specified begin and end range\n",
        "  \"\"\"\n",
        "\n",
        "  # import random module\n",
        "  import random\n",
        "\n",
        "  evenlist = []\n",
        "  #you can delete this, coz we are not using it anywhere in the code\n",
        "  #begin = 10\n",
        "  #end = 20\n",
        "\n",
        "  counter = 1 \n",
        "  while (counter <= num):\n",
        "    #print(\"Counter is \", counter)\n",
        "\n",
        "    # generate random number \n",
        "    randNum = random.randrange(begin, end) \n",
        "    #print(randNum, \" is random number\")\n",
        "\n",
        "    # check if it it even number, if yes, add to list\n",
        "    if randNum % 2 == 0:  \n",
        "      evenlist.append(randNum)\n",
        "      counter = counter + 1\n",
        "      #print(\"Counter after increment \", counter)\n",
        "\n",
        "  # display the even list\n",
        "  print(evenlist)\n",
        "  "
      ],
      "metadata": {
        "id": "f3gFrgLoBfgF"
      },
      "execution_count": 24,
      "outputs": []
    },
    {
      "cell_type": "code",
      "source": [
        "generate_even_list() #function call"
      ],
      "metadata": {
        "colab": {
          "base_uri": "https://localhost:8080/"
        },
        "id": "1Kea7ELtA9tP",
        "outputId": "82ff1a3e-72cb-4b99-9dd3-5d86338dab77"
      },
      "execution_count": 23,
      "outputs": [
        {
          "output_type": "stream",
          "name": "stdout",
          "text": [
            "[10, 12, 16, 14, 16]\n"
          ]
        }
      ]
    },
    {
      "cell_type": "code",
      "source": [
        "generate_even_list(15, 100, 150)"
      ],
      "metadata": {
        "colab": {
          "base_uri": "https://localhost:8080/"
        },
        "id": "p8SyG0idCOMi",
        "outputId": "fa17f400-0d67-4d6f-997b-210e1368f69f"
      },
      "execution_count": 26,
      "outputs": [
        {
          "output_type": "stream",
          "name": "stdout",
          "text": [
            "[142, 112, 138, 122, 138, 132, 114, 112, 122, 148, 110, 100, 144, 122, 118]\n"
          ]
        }
      ]
    },
    {
      "cell_type": "code",
      "source": [
        ""
      ],
      "metadata": {
        "id": "85VX4DwFBKgf"
      },
      "execution_count": null,
      "outputs": []
    },
    {
      "cell_type": "markdown",
      "source": [
        "# Docstrings\n",
        "\n",
        "A docstring is a string literal that occurs as the first statement in a function, module, class, or method definition. \n",
        "\n",
        "Docstring encased in triple `\"\"\"` quotes.\n",
        "\n",
        "Docstrings are used to describe a function. \n",
        " - what a function does, \n",
        " - the number of arguments it takes\n",
        " - the type of object it returns, etc\n",
        "\n",
        "https://peps.python.org/pep-0257/#what-is-a-docstring"
      ],
      "metadata": {
        "id": "-vluWzf0aJDF"
      }
    },
    {
      "cell_type": "code",
      "source": [
        ""
      ],
      "metadata": {
        "id": "oCq3n9_5Cawu"
      },
      "execution_count": null,
      "outputs": []
    },
    {
      "cell_type": "markdown",
      "source": [
        "# Task 3 (Optional): Write a function that takes a list as an argument and generate two lists, even list and odd list.\n",
        "\n",
        "### *Try with `for` loop*"
      ],
      "metadata": {
        "id": "8Tx-b-9EHOpH"
      }
    },
    {
      "cell_type": "code",
      "source": [
        ""
      ],
      "metadata": {
        "id": "lvQDKMHNHPxe"
      },
      "execution_count": null,
      "outputs": []
    }
  ]
}